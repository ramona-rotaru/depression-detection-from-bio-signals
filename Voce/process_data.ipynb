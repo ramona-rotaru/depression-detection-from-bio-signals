{
 "cells": [
  {
   "cell_type": "code",
   "execution_count": 8,
   "metadata": {},
   "outputs": [],
   "source": [
    "import os\n",
    "import librosa\n",
    "import pandas as pd\n",
    "import numpy as np\n",
    "from tqdm import tqdm \n",
    "# Function to process each WAV file\n",
    "def process_wav(file_path, sr=16000, frame_duration=7):\n",
    "    # Load the WAV file\n",
    "    y, sr = librosa.load(file_path, sr=sr)\n",
    "    \n",
    "    # Eliminate the first 15 seconds\n",
    "    y = y[int(sr*15):]\n",
    "    \n",
    "    # Calculate the number of frames\n",
    "    frame_size = sr * frame_duration\n",
    "    num_frames = len(y) // frame_size\n",
    "    \n",
    "    # Segment the WAV file into frames\n",
    "    frames = [y[i*frame_size:(i+1)*frame_size] for i in range(num_frames)]\n",
    "    \n",
    "    return frames\n",
    "\n",
    "# Function to get labels for WAV file frames based on participant ID\n",
    "def get_labels_for_frames(participant_id, data_df, num_frames):\n",
    "    # Assuming you have loaded the CSV data into a DataFrame named 'data_df'\n",
    "    # Iterate through the DataFrame to find participant IDs and corresponding labels\n",
    "    labels = []\n",
    "    for index, row in data_df.iterrows():\n",
    "        if str(row['Participant_ID']) == participant_id:\n",
    "            # print(row['Participant_ID'])\n",
    "            labels.extend([row['PHQ8_Binary']] * num_frames)\n",
    "    \n",
    "    return labels"
   ]
  },
  {
   "cell_type": "code",
   "execution_count": 9,
   "metadata": {},
   "outputs": [
    {
     "name": "stderr",
     "output_type": "stream",
     "text": [
      "100%|██████████| 187/187 [00:37<00:00,  5.02it/s]\n"
     ]
    }
   ],
   "source": [
    "# Path to the folder containing the WAV files\n",
    "wav_folder_path = 'E:\\\\Daicwoz\\\\after_vad_speech\\\\'\n",
    "\n",
    "# Path to the CSV file\n",
    "csv_file_path = 'combined_data.csv'\n",
    "\n",
    "# Load the CSV file into a DataFrame\n",
    "data_df = pd.read_csv(csv_file_path)\n",
    "\n",
    "# List to store data and labels\n",
    "data = []\n",
    "# data = np.array([])  # Initialize an empty numpy array for data\n",
    "labels = []\n",
    "\n",
    "# Iterate through each WAV file in the folder\n",
    "for file_name in tqdm(os.listdir(wav_folder_path)):\n",
    "    if file_name.endswith('.wav'):\n",
    "        file_path = os.path.join(wav_folder_path, file_name)\n",
    "        \n",
    "        # Extract Participant_ID from the WAV file name\n",
    "        participant_id = file_name.split('_')[0]\n",
    "        # print(participant_id)\n",
    "        \n",
    "        \n",
    "        # Process the WAV file\n",
    "        frames = process_wav(file_path)\n",
    "        frames = np.array(frames)\n",
    "        # print(frames.shape)\n",
    "        \n",
    "        \n",
    "        # Concatenate frames to the data array\n",
    "        # for frame in frames:\n",
    "        #     data = np.concatenate((data, frame))\n",
    "        \n",
    "        # Get labels for WAV file frames based on Participant_ID\n",
    "        frame_labels = get_labels_for_frames(participant_id, data_df, len(frames))\n",
    "        \n",
    "        # Append data and labels\n",
    "        data.append(frames)\n",
    "        labels.append(frame_labels)\n",
    "        \n",
    "        # print(file_name, len(frames), len(frame_labels), flush=True)\n",
    "        # print(file_name, len(frames))\n",
    "\n",
    "# Convert data and labels to numpy arrays\n",
    "# data = np.array(data)\n",
    "# labels = np.array(labels)\n",
    "\n",
    "\n"
   ]
  },
  {
   "cell_type": "code",
   "execution_count": 12,
   "metadata": {},
   "outputs": [
    {
     "name": "stdout",
     "output_type": "stream",
     "text": [
      "187 187\n",
      "(68, 112000)\n",
      "(14577, 112000)\n",
      "[1, 1, 1, 1, 1, 1, 1, 1, 1, 1, 1, 1, 1, 1, 1, 1, 1, 1, 1, 1, 1, 1, 1, 1, 1, 1, 1, 1, 1, 1, 1, 1, 1, 1, 1, 1, 1, 1, 1, 1, 1, 1, 1, 1, 1, 1, 1, 1, 1, 1, 1, 1, 1, 1, 1, 1, 1, 1, 1, 1, 1, 1, 1, 1, 1, 1, 1, 1]\n"
     ]
    }
   ],
   "source": [
    "print(len(data), len(labels))\n",
    "print(data[0].shape)\n",
    "data = np.concatenate(data, axis=0)\n",
    "print(data.shape)\n",
    "print(labels[0])\n"
   ]
  },
  {
   "cell_type": "code",
   "execution_count": 13,
   "metadata": {},
   "outputs": [
    {
     "name": "stdout",
     "output_type": "stream",
     "text": [
      "(14577,)\n"
     ]
    }
   ],
   "source": [
    "labels = np.concatenate(labels, axis=0)\n",
    "print(labels.shape)"
   ]
  },
  {
   "cell_type": "code",
   "execution_count": 14,
   "metadata": {},
   "outputs": [],
   "source": [
    "np.save('data.npy', data)\n",
    "np.save('labels.npy', labels)"
   ]
  }
 ],
 "metadata": {
  "kernelspec": {
   "display_name": "labplnta",
   "language": "python",
   "name": "python3"
  },
  "language_info": {
   "codemirror_mode": {
    "name": "ipython",
    "version": 3
   },
   "file_extension": ".py",
   "mimetype": "text/x-python",
   "name": "python",
   "nbconvert_exporter": "python",
   "pygments_lexer": "ipython3",
   "version": "3.9.15"
  }
 },
 "nbformat": 4,
 "nbformat_minor": 2
}
