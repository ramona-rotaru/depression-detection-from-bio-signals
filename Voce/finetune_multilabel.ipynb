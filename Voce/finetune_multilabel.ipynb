{
 "cells": [
  {
   "cell_type": "code",
   "execution_count": 1,
   "metadata": {},
   "outputs": [
    {
     "name": "stderr",
     "output_type": "stream",
     "text": [
      "d:\\python\\envs\\labplnta\\lib\\site-packages\\tqdm\\auto.py:21: TqdmWarning: IProgress not found. Please update jupyter and ipywidgets. See https://ipywidgets.readthedocs.io/en/stable/user_install.html\n",
      "  from .autonotebook import tqdm as notebook_tqdm\n"
     ]
    }
   ],
   "source": [
    "import numpy as np\n",
    "import pandas as pd\n",
    "\n",
    "from pathlib import Path\n",
    "from tqdm import tqdm\n",
    "\n",
    "import torchaudio\n",
    "import torch\n",
    "from sklearn.model_selection import train_test_split\n",
    "\n",
    "import os\n",
    "import sys\n",
    "\n",
    "from transformers import AutoConfig, Wav2Vec2Processor, Wav2Vec2FeatureExtractor\n",
    "from transformers import HubertModel, HubertConfig, Wav2Vec2Processor\n",
    "import torch.nn as nn\n",
    "import torch\n"
   ]
  },
  {
   "cell_type": "code",
   "execution_count": 2,
   "metadata": {},
   "outputs": [
    {
     "name": "stdout",
     "output_type": "stream",
     "text": [
      "(4033, 112000)\n",
      "(4033,)\n"
     ]
    }
   ],
   "source": [
    "data = np.load('./data_severity.npy', allow_pickle=True)\n",
    "labels = np.load('./labels_severity.npy', allow_pickle=True)\n",
    "\n",
    "print(data.shape)\n",
    "print(labels.shape)"
   ]
  },
  {
   "cell_type": "code",
   "execution_count": 3,
   "metadata": {},
   "outputs": [
    {
     "name": "stdout",
     "output_type": "stream",
     "text": [
      "The target sampling rate: 16000\n"
     ]
    }
   ],
   "source": [
    "model_name_or_path = \"facebook/hubert-base-ls960\"\n",
    "\n",
    "feature_extractor = Wav2Vec2FeatureExtractor.from_pretrained(model_name_or_path,)\n",
    "target_sampling_rate = feature_extractor.sampling_rate\n",
    "print(f\"The target sampling rate: {target_sampling_rate}\")"
   ]
  },
  {
   "cell_type": "code",
   "execution_count": 4,
   "metadata": {},
   "outputs": [],
   "source": [
    "x_train, x_test, y_train, y_test = train_test_split(data, labels, test_size=0.2, random_state=33, stratify=labels)"
   ]
  },
  {
   "cell_type": "code",
   "execution_count": 5,
   "metadata": {},
   "outputs": [
    {
     "name": "stdout",
     "output_type": "stream",
     "text": [
      "(3226, 112000) (3226,)\n",
      "(807, 112000) (807,)\n"
     ]
    }
   ],
   "source": [
    "print(x_train.shape, y_train.shape)\n",
    "print(x_test.shape, y_test.shape)\n",
    "\n",
    "y_train = torch.nn.functional.one_hot(torch.tensor(y_train), num_classes=5)\n",
    "y_test = torch.nn.functional.one_hot(torch.tensor(y_test), num_classes=5)"
   ]
  },
  {
   "cell_type": "code",
   "execution_count": 6,
   "metadata": {},
   "outputs": [
    {
     "name": "stdout",
     "output_type": "stream",
     "text": [
      "torch.Size([3226, 5]) torch.Size([807, 5])\n"
     ]
    }
   ],
   "source": [
    "print(y_train.shape, y_test.shape)"
   ]
  },
  {
   "cell_type": "code",
   "execution_count": 7,
   "metadata": {},
   "outputs": [
    {
     "name": "stdout",
     "output_type": "stream",
     "text": [
      "[-0.00234985 -0.00268555 -0.00134277 ... -0.00878906 -0.00805664\n",
      " -0.00747681]\n",
      "[ 1.2207031e-04  1.2207031e-04  6.1035156e-05 ... -2.9602051e-03\n",
      " -3.4484863e-03 -4.0588379e-03]\n",
      "3226 807\n"
     ]
    }
   ],
   "source": [
    "#create a list of arrays for the training data\n",
    "train_data = []\n",
    "for i in range(len(x_train)):\n",
    "    train_data.append(x_train[i])\n",
    "    \n",
    "#create a list of arrays for the testing data\n",
    "test_data = []\n",
    "for i in range(len(x_test)):\n",
    "    test_data.append(x_test[i])\n",
    "    \n",
    "print(train_data[0])\n",
    "print(test_data[0])\n",
    "\n",
    "print(len(train_data), len(test_data))"
   ]
  },
  {
   "cell_type": "code",
   "execution_count": 8,
   "metadata": {},
   "outputs": [
    {
     "name": "stdout",
     "output_type": "stream",
     "text": [
      "dict_keys(['input_values'])\n",
      "dict_keys(['input_values'])\n",
      "[-0.12088266 -0.13840723 -0.06830896 ... -0.4570358  -0.41880038\n",
      " -0.38853067]\n"
     ]
    }
   ],
   "source": [
    "features_train = feature_extractor(train_data, sampling_rate=target_sampling_rate)\n",
    "features_test = feature_extractor(test_data, sampling_rate=target_sampling_rate)\n",
    "\n",
    "print(features_train.keys())\n",
    "print(features_test.keys())\n",
    "print(features_train['input_values'][0])"
   ]
  },
  {
   "cell_type": "code",
   "execution_count": 9,
   "metadata": {},
   "outputs": [
    {
     "name": "stdout",
     "output_type": "stream",
     "text": [
      "[tensor([1, 0, 0, 0, 0]), tensor([1, 0, 0, 0, 0]), tensor([1, 0, 0, 0, 0]), tensor([0, 1, 0, 0, 0]), tensor([0, 0, 0, 1, 0]), tensor([0, 0, 0, 1, 0]), tensor([1, 0, 0, 0, 0]), tensor([0, 0, 0, 1, 0]), tensor([0, 1, 0, 0, 0]), tensor([1, 0, 0, 0, 0]), tensor([1, 0, 0, 0, 0]), tensor([1, 0, 0, 0, 0]), tensor([1, 0, 0, 0, 0]), tensor([0, 0, 0, 1, 0]), tensor([0, 1, 0, 0, 0]), tensor([0, 1, 0, 0, 0]), tensor([1, 0, 0, 0, 0]), tensor([0, 1, 0, 0, 0]), tensor([0, 0, 1, 0, 0]), tensor([0, 0, 0, 1, 0]), tensor([0, 0, 0, 1, 0]), tensor([0, 1, 0, 0, 0]), tensor([0, 1, 0, 0, 0]), tensor([0, 1, 0, 0, 0]), tensor([1, 0, 0, 0, 0]), tensor([0, 0, 1, 0, 0]), tensor([0, 1, 0, 0, 0]), tensor([1, 0, 0, 0, 0]), tensor([1, 0, 0, 0, 0]), tensor([0, 0, 1, 0, 0]), tensor([1, 0, 0, 0, 0]), tensor([0, 0, 0, 1, 0]), tensor([1, 0, 0, 0, 0]), tensor([1, 0, 0, 0, 0]), tensor([0, 0, 1, 0, 0]), tensor([0, 0, 1, 0, 0]), tensor([0, 1, 0, 0, 0]), tensor([1, 0, 0, 0, 0]), tensor([0, 0, 0, 0, 1]), tensor([1, 0, 0, 0, 0]), tensor([0, 1, 0, 0, 0]), tensor([0, 1, 0, 0, 0]), tensor([1, 0, 0, 0, 0]), tensor([1, 0, 0, 0, 0]), tensor([0, 0, 1, 0, 0]), tensor([0, 0, 1, 0, 0]), tensor([1, 0, 0, 0, 0]), tensor([0, 0, 1, 0, 0]), tensor([1, 0, 0, 0, 0]), tensor([1, 0, 0, 0, 0])]\n"
     ]
    }
   ],
   "source": [
    "features_train['labels'] = [label for label in y_train]\n",
    "features_test['labels'] = [label for label in y_test]\n",
    "\n",
    "print(features_train['labels'][:50])"
   ]
  },
  {
   "cell_type": "code",
   "execution_count": 10,
   "metadata": {},
   "outputs": [
    {
     "name": "stdout",
     "output_type": "stream",
     "text": [
      "{'input_values': tensor([-2.5145, -2.6991, -2.9758,  ..., -1.0219, -0.8769, -0.7451]), 'labels': tensor([[1., 0., 0., 0., 0.]])}\n",
      "{'input_values': tensor([-0.1155, -0.0957, -0.2171,  ...,  0.4292,  0.2699,  0.0196]), 'labels': tensor([[1., 0., 0., 0., 0.]])}\n"
     ]
    },
    {
     "name": "stderr",
     "output_type": "stream",
     "text": [
      "C:\\Users\\ramona\\AppData\\Local\\Temp\\ipykernel_20288\\3042093823.py:7: UserWarning: To copy construct from a tensor, it is recommended to use sourceTensor.clone().detach() or sourceTensor.clone().detach().requires_grad_(True), rather than torch.tensor(sourceTensor).\n",
      "  labels = torch.tensor(self.encodings['labels'][idx], dtype=torch.float).unsqueeze(0)  # Ensure labels are shaped correctly\n"
     ]
    }
   ],
   "source": [
    "\n",
    "class Dataset(torch.utils.data.Dataset):\n",
    "    def __init__(self, encodings):\n",
    "        self.encodings = encodings\n",
    "\n",
    "    def __getitem__(self, idx):\n",
    "        input_values = torch.tensor(self.encodings['input_values'][idx], dtype=torch.float)\n",
    "        labels = torch.tensor(self.encodings['labels'][idx], dtype=torch.float).unsqueeze(0)  # Ensure labels are shaped correctly\n",
    "        return {'input_values': input_values, 'labels': labels}\n",
    "\n",
    "    def __len__(self):\n",
    "        return len(self.encodings['input_values'])\n",
    "\n",
    "    \n",
    "train_dataset = Dataset(features_train)\n",
    "test_dataset = Dataset(features_test)\n",
    "\n",
    "print(train_dataset[9])\n",
    "print(test_dataset[9])"
   ]
  },
  {
   "cell_type": "code",
   "execution_count": 11,
   "metadata": {},
   "outputs": [
    {
     "name": "stdout",
     "output_type": "stream",
     "text": [
      "3226 807\n"
     ]
    }
   ],
   "source": [
    "train_loader = torch.utils.data.DataLoader(train_dataset, batch_size=1, shuffle=True)\n",
    "test_loader = torch.utils.data.DataLoader(test_dataset, batch_size=1, shuffle=False)\n",
    "\n",
    "print(len(train_loader), len(test_loader))"
   ]
  },
  {
   "cell_type": "code",
   "execution_count": 12,
   "metadata": {},
   "outputs": [
    {
     "name": "stdout",
     "output_type": "stream",
     "text": [
      "Training input_values: tensor([-0.1209, -0.1384, -0.0683,  ..., -0.4570, -0.4188, -0.3885])\n",
      "Training labels: tensor([[1., 0., 0., 0., 0.]])\n"
     ]
    },
    {
     "name": "stderr",
     "output_type": "stream",
     "text": [
      "C:\\Users\\ramona\\AppData\\Local\\Temp\\ipykernel_20288\\3042093823.py:7: UserWarning: To copy construct from a tensor, it is recommended to use sourceTensor.clone().detach() or sourceTensor.clone().detach().requires_grad_(True), rather than torch.tensor(sourceTensor).\n",
      "  labels = torch.tensor(self.encodings['labels'][idx], dtype=torch.float).unsqueeze(0)  # Ensure labels are shaped correctly\n"
     ]
    }
   ],
   "source": [
    "print(f\"Training input_values: {train_dataset[0]['input_values']}\")\n",
    "print(f\"Training labels: {train_dataset[0]['labels']}\")"
   ]
  },
  {
   "cell_type": "code",
   "execution_count": 13,
   "metadata": {},
   "outputs": [],
   "source": [
    "# Define the model class\n",
    "class HubertForMulticlassClassification(nn.Module):\n",
    "    def __init__(self, hubert_model_name='facebook/hubert-base-ls960', num_classes=5):\n",
    "        super(HubertForMulticlassClassification, self).__init__()\n",
    "        self.feature_extractor = Wav2Vec2FeatureExtractor.from_pretrained(hubert_model_name)\n",
    "        self.hubert = HubertModel.from_pretrained(hubert_model_name)\n",
    "        self.classifier = nn.Linear(self.hubert.config.hidden_size, num_classes)\n",
    "    \n",
    "    def forward(self, input_values):\n",
    "        outputs = self.hubert(input_values).last_hidden_state\n",
    "        # Use the mean of the last hidden state as the input to the classifier\n",
    "        mean_output = torch.mean(outputs, dim=1)\n",
    "        logits = self.classifier(mean_output)\n",
    "        return logits\n"
   ]
  },
  {
   "cell_type": "code",
   "execution_count": 14,
   "metadata": {},
   "outputs": [
    {
     "name": "stderr",
     "output_type": "stream",
     "text": [
      "d:\\python\\envs\\labplnta\\lib\\site-packages\\torch\\_utils.py:831: UserWarning: TypedStorage is deprecated. It will be removed in the future and UntypedStorage will be the only storage class. This should only matter to you if you are using storages directly.  To access UntypedStorage directly, use tensor.untyped_storage() instead of tensor.storage()\n",
      "  return self.fget.__get__(instance, owner)()\n",
      "Some weights of the model checkpoint at facebook/hubert-base-ls960 were not used when initializing HubertModel: ['encoder.pos_conv_embed.conv.weight_g', 'encoder.pos_conv_embed.conv.weight_v']\n",
      "- This IS expected if you are initializing HubertModel from the checkpoint of a model trained on another task or with another architecture (e.g. initializing a BertForSequenceClassification model from a BertForPreTraining model).\n",
      "- This IS NOT expected if you are initializing HubertModel from the checkpoint of a model that you expect to be exactly identical (initializing a BertForSequenceClassification model from a BertForSequenceClassification model).\n",
      "Some weights of HubertModel were not initialized from the model checkpoint at facebook/hubert-base-ls960 and are newly initialized: ['encoder.pos_conv_embed.conv.parametrizations.weight.original0', 'encoder.pos_conv_embed.conv.parametrizations.weight.original1']\n",
      "You should probably TRAIN this model on a down-stream task to be able to use it for predictions and inference.\n"
     ]
    },
    {
     "data": {
      "text/plain": [
       "HubertForMulticlassClassification(\n",
       "  (hubert): HubertModel(\n",
       "    (feature_extractor): HubertFeatureEncoder(\n",
       "      (conv_layers): ModuleList(\n",
       "        (0): HubertGroupNormConvLayer(\n",
       "          (conv): Conv1d(1, 512, kernel_size=(10,), stride=(5,), bias=False)\n",
       "          (activation): GELUActivation()\n",
       "          (layer_norm): GroupNorm(512, 512, eps=1e-05, affine=True)\n",
       "        )\n",
       "        (1-4): 4 x HubertNoLayerNormConvLayer(\n",
       "          (conv): Conv1d(512, 512, kernel_size=(3,), stride=(2,), bias=False)\n",
       "          (activation): GELUActivation()\n",
       "        )\n",
       "        (5-6): 2 x HubertNoLayerNormConvLayer(\n",
       "          (conv): Conv1d(512, 512, kernel_size=(2,), stride=(2,), bias=False)\n",
       "          (activation): GELUActivation()\n",
       "        )\n",
       "      )\n",
       "    )\n",
       "    (feature_projection): HubertFeatureProjection(\n",
       "      (layer_norm): LayerNorm((512,), eps=1e-05, elementwise_affine=True)\n",
       "      (projection): Linear(in_features=512, out_features=768, bias=True)\n",
       "      (dropout): Dropout(p=0.1, inplace=False)\n",
       "    )\n",
       "    (encoder): HubertEncoder(\n",
       "      (pos_conv_embed): HubertPositionalConvEmbedding(\n",
       "        (conv): ParametrizedConv1d(\n",
       "          768, 768, kernel_size=(128,), stride=(1,), padding=(64,), groups=16\n",
       "          (parametrizations): ModuleDict(\n",
       "            (weight): ParametrizationList(\n",
       "              (0): _WeightNorm()\n",
       "            )\n",
       "          )\n",
       "        )\n",
       "        (padding): HubertSamePadLayer()\n",
       "        (activation): GELUActivation()\n",
       "      )\n",
       "      (layer_norm): LayerNorm((768,), eps=1e-05, elementwise_affine=True)\n",
       "      (dropout): Dropout(p=0.1, inplace=False)\n",
       "      (layers): ModuleList(\n",
       "        (0-11): 12 x HubertEncoderLayer(\n",
       "          (attention): HubertAttention(\n",
       "            (k_proj): Linear(in_features=768, out_features=768, bias=True)\n",
       "            (v_proj): Linear(in_features=768, out_features=768, bias=True)\n",
       "            (q_proj): Linear(in_features=768, out_features=768, bias=True)\n",
       "            (out_proj): Linear(in_features=768, out_features=768, bias=True)\n",
       "          )\n",
       "          (dropout): Dropout(p=0.1, inplace=False)\n",
       "          (layer_norm): LayerNorm((768,), eps=1e-05, elementwise_affine=True)\n",
       "          (feed_forward): HubertFeedForward(\n",
       "            (intermediate_dropout): Dropout(p=0.1, inplace=False)\n",
       "            (intermediate_dense): Linear(in_features=768, out_features=3072, bias=True)\n",
       "            (intermediate_act_fn): GELUActivation()\n",
       "            (output_dense): Linear(in_features=3072, out_features=768, bias=True)\n",
       "            (output_dropout): Dropout(p=0.1, inplace=False)\n",
       "          )\n",
       "          (final_layer_norm): LayerNorm((768,), eps=1e-05, elementwise_affine=True)\n",
       "        )\n",
       "      )\n",
       "    )\n",
       "  )\n",
       "  (classifier): Linear(in_features=768, out_features=5, bias=True)\n",
       ")"
      ]
     },
     "execution_count": 14,
     "metadata": {},
     "output_type": "execute_result"
    }
   ],
   "source": [
    "# Instantiate the model\n",
    "model = HubertForMulticlassClassification(num_classes=5)\n",
    "\n",
    "# Define the loss function\n",
    "criterion = nn.CrossEntropyLoss()\n",
    "\n",
    "# Define optimizer\n",
    "optimizer = torch.optim.AdamW(model.parameters(), lr=1e-5)\n",
    "\n",
    "# Define device\n",
    "device = torch.device('cuda' if torch.cuda.is_available() else 'cpu')\n",
    "\n",
    "# Move model to device\n",
    "model.to(device)"
   ]
  },
  {
   "cell_type": "code",
   "execution_count": 15,
   "metadata": {},
   "outputs": [],
   "source": [
    "from torch.utils.tensorboard import SummaryWriter\n",
    "\n",
    "# Initialize TensorBoard writer\n",
    "writer = SummaryWriter('runs/hubert_depression_multiclass_experiment_4_cata')"
   ]
  },
  {
   "cell_type": "code",
   "execution_count": 16,
   "metadata": {},
   "outputs": [],
   "source": [
    "def train(model, train_loader, optimizer, criterion, device, writer, epoch):\n",
    "    \n",
    "    \n",
    "    model.train()\n",
    "    total_loss = 0\n",
    "\n",
    "    for batch_idx, batch in enumerate(train_loader):\n",
    "        input_values = batch['input_values'].to(device)\n",
    "        labels = batch['labels'].to(device)\n",
    "        \n",
    "        # print(input_values.shape)\n",
    "        # print(labels.shape)\n",
    "        \n",
    "        labels = labels.squeeze(1)\n",
    "        \n",
    "        optimizer.zero_grad()\n",
    "        outputs = model(input_values)\n",
    "        loss = criterion(outputs, labels)\n",
    "        loss.backward()\n",
    "        optimizer.step()\n",
    "        \n",
    "        # break\n",
    "        \n",
    "        total_loss += loss.item()\n",
    "\n",
    "        # Log training loss\n",
    "        if batch_idx % 10 == 0:  # Log every 10 batches\n",
    "            writer.add_scalar('Training Loss', loss.item(), epoch * len(train_loader) + batch_idx)\n",
    "\n",
    "    avg_loss = total_loss / len(train_loader)\n",
    "    return avg_loss\n",
    "\n",
    "\n",
    "def evaluate(model, test_loader, criterion, device, writer, epoch):\n",
    "    model.eval()\n",
    "    total_loss = 0\n",
    "    all_labels = []\n",
    "    all_preds = []\n",
    "\n",
    "    with torch.no_grad():\n",
    "        for batch_idx, batch in enumerate(test_loader):\n",
    "            input_values = batch['input_values'].to(device)\n",
    "            labels = batch['labels'].to(device)\n",
    "            \n",
    "            labels = labels.squeeze(1)\n",
    "            \n",
    "           \n",
    "            labels = torch.argmax(labels, axis=1)\n",
    "            # print(\"LABEL: \", labels)\n",
    "            outputs = model(input_values)\n",
    "            # print(\"OUTPUT: \", outputs)\n",
    "            loss = criterion(outputs, labels)\n",
    "            total_loss += loss.item()\n",
    "            \n",
    "            all_labels.extend(labels.cpu().numpy())\n",
    "            all_preds.extend(torch.argmax(outputs, axis=1).cpu().numpy())\n",
    "            # print(\"PREDICTION: \", torch.argmax(outputs, axis=1).cpu().numpy())\n",
    "\n",
    "    avg_loss = total_loss / len(test_loader)\n",
    "\n",
    "    # Calculate additional metrics\n",
    "    from sklearn.metrics import accuracy_score, precision_score, recall_score, f1_score\n",
    "    \n",
    "    accuracy = accuracy_score(all_labels, all_preds)\n",
    "    precision = precision_score(all_labels, all_preds, average='weighted')\n",
    "    recall = recall_score(all_labels, all_preds, average='weighted')\n",
    "    f1 = f1_score(all_labels, all_preds, average='weighted')\n",
    "    \n",
    "    # Log validation metrics\n",
    "    writer.add_scalar('Validation Loss', avg_loss, epoch)\n",
    "    writer.add_scalar('Validation Accuracy', accuracy, epoch)\n",
    "    writer.add_scalar('Validation Precision', precision, epoch)\n",
    "    writer.add_scalar('Validation Recall', recall, epoch)\n",
    "    writer.add_scalar('Validation F1 Score', f1, epoch)\n",
    "\n",
    "    return avg_loss, accuracy, precision, recall, f1\n",
    "\n",
    "def save_model(model, optimizer, epoch, model_path):\n",
    "    if not os.path.exists(model_path):\n",
    "        os.makedirs(model_path)\n",
    "    model_save_path = os.path.join(model_path, f'model_epoch_{epoch}.pth')\n",
    "    optimizer_save_path = os.path.join(model_path, f'optimizer_epoch_{epoch}.pth')\n",
    "    torch.save(model.state_dict(), model_save_path)\n",
    "    torch.save(optimizer.state_dict(), optimizer_save_path)\n",
    "    print(f\"Model and optimizer saved to {model_save_path} and {optimizer_save_path}\")\n",
    "\n",
    "def load_model(model_path, epoch):\n",
    "    model = HubertForMulticlassClassification()\n",
    "    model_load_path = os.path.join(model_path, f'model_epoch_{epoch}.pth')\n",
    "    optimizer_load_path = os.path.join(model_path, f'optimizer_epoch_{epoch}.pth')\n",
    "    model.load_state_dict(torch.load(model_load_path))\n",
    "    optimizer = torch.optim.AdamW(model.parameters(), lr=1e-5)\n",
    "    optimizer.load_state_dict(torch.load(optimizer_load_path))\n",
    "    \n",
    "    model.to(device)\n",
    "    return model, optimizer"
   ]
  },
  {
   "cell_type": "code",
   "execution_count": 17,
   "metadata": {},
   "outputs": [
    {
     "name": "stderr",
     "output_type": "stream",
     "text": [
      "C:\\Users\\ramona\\AppData\\Local\\Temp\\ipykernel_7336\\3042093823.py:7: UserWarning: To copy construct from a tensor, it is recommended to use sourceTensor.clone().detach() or sourceTensor.clone().detach().requires_grad_(True), rather than torch.tensor(sourceTensor).\n",
      "  labels = torch.tensor(self.encodings['labels'][idx], dtype=torch.float).unsqueeze(0)  # Ensure labels are shaped correctly\n",
      "d:\\python\\envs\\labplnta\\lib\\site-packages\\sklearn\\metrics\\_classification.py:1344: UndefinedMetricWarning: Precision is ill-defined and being set to 0.0 in labels with no predicted samples. Use `zero_division` parameter to control this behavior.\n",
      "  _warn_prf(average, modifier, msg_start, len(result))\n"
     ]
    },
    {
     "name": "stdout",
     "output_type": "stream",
     "text": [
      "Epoch 1/10\n",
      "Train Loss: 0.7331\n",
      "Validation Loss: 0.1081\n",
      "Accuracy: 0.9628, Precision: 0.9426, Recall: 0.9628, F1 Score: 0.9521\n",
      "Model and optimizer saved to ./hubert_depression_multiclass_model_cata\\model_epoch_0.pth and ./hubert_depression_multiclass_model_cata\\optimizer_epoch_0.pth\n"
     ]
    },
    {
     "name": "stderr",
     "output_type": "stream",
     "text": [
      "C:\\Users\\ramona\\AppData\\Local\\Temp\\ipykernel_7336\\3042093823.py:7: UserWarning: To copy construct from a tensor, it is recommended to use sourceTensor.clone().detach() or sourceTensor.clone().detach().requires_grad_(True), rather than torch.tensor(sourceTensor).\n",
      "  labels = torch.tensor(self.encodings['labels'][idx], dtype=torch.float).unsqueeze(0)  # Ensure labels are shaped correctly\n"
     ]
    },
    {
     "name": "stdout",
     "output_type": "stream",
     "text": [
      "Epoch 2/10\n",
      "Train Loss: 0.2178\n",
      "Validation Loss: 0.0639\n",
      "Accuracy: 0.9777, Precision: 0.9781, Recall: 0.9777, F1 Score: 0.9754\n",
      "Model and optimizer saved to ./hubert_depression_multiclass_model_cata\\model_epoch_1.pth and ./hubert_depression_multiclass_model_cata\\optimizer_epoch_1.pth\n"
     ]
    },
    {
     "name": "stderr",
     "output_type": "stream",
     "text": [
      "C:\\Users\\ramona\\AppData\\Local\\Temp\\ipykernel_7336\\3042093823.py:7: UserWarning: To copy construct from a tensor, it is recommended to use sourceTensor.clone().detach() or sourceTensor.clone().detach().requires_grad_(True), rather than torch.tensor(sourceTensor).\n",
      "  labels = torch.tensor(self.encodings['labels'][idx], dtype=torch.float).unsqueeze(0)  # Ensure labels are shaped correctly\n"
     ]
    },
    {
     "name": "stdout",
     "output_type": "stream",
     "text": [
      "Epoch 3/10\n",
      "Train Loss: 0.1607\n",
      "Validation Loss: 0.0355\n",
      "Accuracy: 0.9938, Precision: 0.9938, Recall: 0.9938, F1 Score: 0.9938\n",
      "Model and optimizer saved to ./hubert_depression_multiclass_model_cata\\model_epoch_2.pth and ./hubert_depression_multiclass_model_cata\\optimizer_epoch_2.pth\n"
     ]
    },
    {
     "name": "stderr",
     "output_type": "stream",
     "text": [
      "C:\\Users\\ramona\\AppData\\Local\\Temp\\ipykernel_7336\\3042093823.py:7: UserWarning: To copy construct from a tensor, it is recommended to use sourceTensor.clone().detach() or sourceTensor.clone().detach().requires_grad_(True), rather than torch.tensor(sourceTensor).\n",
      "  labels = torch.tensor(self.encodings['labels'][idx], dtype=torch.float).unsqueeze(0)  # Ensure labels are shaped correctly\n"
     ]
    },
    {
     "name": "stdout",
     "output_type": "stream",
     "text": [
      "Epoch 4/10\n",
      "Train Loss: 0.1020\n",
      "Validation Loss: 0.0408\n",
      "Accuracy: 0.9888, Precision: 0.9889, Recall: 0.9888, F1 Score: 0.9888\n",
      "Model and optimizer saved to ./hubert_depression_multiclass_model_cata\\model_epoch_3.pth and ./hubert_depression_multiclass_model_cata\\optimizer_epoch_3.pth\n"
     ]
    },
    {
     "name": "stderr",
     "output_type": "stream",
     "text": [
      "C:\\Users\\ramona\\AppData\\Local\\Temp\\ipykernel_7336\\3042093823.py:7: UserWarning: To copy construct from a tensor, it is recommended to use sourceTensor.clone().detach() or sourceTensor.clone().detach().requires_grad_(True), rather than torch.tensor(sourceTensor).\n",
      "  labels = torch.tensor(self.encodings['labels'][idx], dtype=torch.float).unsqueeze(0)  # Ensure labels are shaped correctly\n"
     ]
    },
    {
     "name": "stdout",
     "output_type": "stream",
     "text": [
      "Epoch 5/10\n",
      "Train Loss: 0.1000\n",
      "Validation Loss: 0.0414\n",
      "Accuracy: 0.9888, Precision: 0.9890, Recall: 0.9888, F1 Score: 0.9888\n",
      "Model and optimizer saved to ./hubert_depression_multiclass_model_cata\\model_epoch_4.pth and ./hubert_depression_multiclass_model_cata\\optimizer_epoch_4.pth\n"
     ]
    },
    {
     "name": "stderr",
     "output_type": "stream",
     "text": [
      "C:\\Users\\ramona\\AppData\\Local\\Temp\\ipykernel_7336\\3042093823.py:7: UserWarning: To copy construct from a tensor, it is recommended to use sourceTensor.clone().detach() or sourceTensor.clone().detach().requires_grad_(True), rather than torch.tensor(sourceTensor).\n",
      "  labels = torch.tensor(self.encodings['labels'][idx], dtype=torch.float).unsqueeze(0)  # Ensure labels are shaped correctly\n"
     ]
    },
    {
     "name": "stdout",
     "output_type": "stream",
     "text": [
      "Epoch 6/10\n",
      "Train Loss: 0.0728\n",
      "Validation Loss: 0.1254\n",
      "Accuracy: 0.9715, Precision: 0.9731, Recall: 0.9715, F1 Score: 0.9717\n",
      "Model and optimizer saved to ./hubert_depression_multiclass_model_cata\\model_epoch_5.pth and ./hubert_depression_multiclass_model_cata\\optimizer_epoch_5.pth\n"
     ]
    },
    {
     "name": "stderr",
     "output_type": "stream",
     "text": [
      "C:\\Users\\ramona\\AppData\\Local\\Temp\\ipykernel_7336\\3042093823.py:7: UserWarning: To copy construct from a tensor, it is recommended to use sourceTensor.clone().detach() or sourceTensor.clone().detach().requires_grad_(True), rather than torch.tensor(sourceTensor).\n",
      "  labels = torch.tensor(self.encodings['labels'][idx], dtype=torch.float).unsqueeze(0)  # Ensure labels are shaped correctly\n"
     ]
    },
    {
     "name": "stdout",
     "output_type": "stream",
     "text": [
      "Epoch 7/10\n",
      "Train Loss: 0.0928\n",
      "Validation Loss: 0.0374\n",
      "Accuracy: 0.9901, Precision: 0.9902, Recall: 0.9901, F1 Score: 0.9901\n",
      "Model and optimizer saved to ./hubert_depression_multiclass_model_cata\\model_epoch_6.pth and ./hubert_depression_multiclass_model_cata\\optimizer_epoch_6.pth\n"
     ]
    },
    {
     "name": "stderr",
     "output_type": "stream",
     "text": [
      "C:\\Users\\ramona\\AppData\\Local\\Temp\\ipykernel_7336\\3042093823.py:7: UserWarning: To copy construct from a tensor, it is recommended to use sourceTensor.clone().detach() or sourceTensor.clone().detach().requires_grad_(True), rather than torch.tensor(sourceTensor).\n",
      "  labels = torch.tensor(self.encodings['labels'][idx], dtype=torch.float).unsqueeze(0)  # Ensure labels are shaped correctly\n"
     ]
    },
    {
     "name": "stdout",
     "output_type": "stream",
     "text": [
      "Epoch 8/10\n",
      "Train Loss: 0.0751\n",
      "Validation Loss: 0.0506\n",
      "Accuracy: 0.9827, Precision: 0.9828, Recall: 0.9827, F1 Score: 0.9817\n",
      "Model and optimizer saved to ./hubert_depression_multiclass_model_cata\\model_epoch_7.pth and ./hubert_depression_multiclass_model_cata\\optimizer_epoch_7.pth\n"
     ]
    },
    {
     "name": "stderr",
     "output_type": "stream",
     "text": [
      "C:\\Users\\ramona\\AppData\\Local\\Temp\\ipykernel_7336\\3042093823.py:7: UserWarning: To copy construct from a tensor, it is recommended to use sourceTensor.clone().detach() or sourceTensor.clone().detach().requires_grad_(True), rather than torch.tensor(sourceTensor).\n",
      "  labels = torch.tensor(self.encodings['labels'][idx], dtype=torch.float).unsqueeze(0)  # Ensure labels are shaped correctly\n"
     ]
    },
    {
     "name": "stdout",
     "output_type": "stream",
     "text": [
      "Epoch 9/10\n",
      "Train Loss: 0.0428\n",
      "Validation Loss: 0.1342\n",
      "Accuracy: 0.9665, Precision: 0.9692, Recall: 0.9665, F1 Score: 0.9666\n",
      "Model and optimizer saved to ./hubert_depression_multiclass_model_cata\\model_epoch_8.pth and ./hubert_depression_multiclass_model_cata\\optimizer_epoch_8.pth\n"
     ]
    },
    {
     "name": "stderr",
     "output_type": "stream",
     "text": [
      "C:\\Users\\ramona\\AppData\\Local\\Temp\\ipykernel_7336\\3042093823.py:7: UserWarning: To copy construct from a tensor, it is recommended to use sourceTensor.clone().detach() or sourceTensor.clone().detach().requires_grad_(True), rather than torch.tensor(sourceTensor).\n",
      "  labels = torch.tensor(self.encodings['labels'][idx], dtype=torch.float).unsqueeze(0)  # Ensure labels are shaped correctly\n"
     ]
    },
    {
     "name": "stdout",
     "output_type": "stream",
     "text": [
      "Epoch 10/10\n",
      "Train Loss: 0.0486\n",
      "Validation Loss: 0.0585\n",
      "Accuracy: 0.9777, Precision: 0.9780, Recall: 0.9777, F1 Score: 0.9748\n",
      "Model and optimizer saved to ./hubert_depression_multiclass_model_cata\\model_epoch_9.pth and ./hubert_depression_multiclass_model_cata\\optimizer_epoch_9.pth\n"
     ]
    }
   ],
   "source": [
    "# Training and evaluation setup\n",
    "num_epochs = 10\n",
    "model_path = './hubert_depression_multiclass_model'\n",
    "\n",
    "for epoch in range(num_epochs):\n",
    "    train_loss = train(model, train_loader, optimizer, criterion, device, writer, epoch)\n",
    "    val_loss, accuracy, precision, recall, f1 = evaluate(model, test_loader, criterion, device, writer, epoch)\n",
    "    # break\n",
    "    \n",
    "    print(f'Epoch {epoch+1}/{num_epochs}')\n",
    "    print(f'Train Loss: {train_loss:.4f}')\n",
    "    print(f'Validation Loss: {val_loss:.4f}')\n",
    "    print(f'Accuracy: {accuracy:.4f}, Precision: {precision:.4f}, Recall: {recall:.4f}, F1 Score: {f1:.4f}')\n",
    "    \n",
    "    # Save the model after each epoch\n",
    "    save_model(model, optimizer, epoch, model_path)\n",
    "\n",
    "# Close the writer\n",
    "writer.close()"
   ]
  },
  {
   "cell_type": "code",
   "execution_count": 17,
   "metadata": {},
   "outputs": [
    {
     "name": "stderr",
     "output_type": "stream",
     "text": [
      "Some weights of the model checkpoint at facebook/hubert-base-ls960 were not used when initializing HubertModel: ['encoder.pos_conv_embed.conv.weight_g', 'encoder.pos_conv_embed.conv.weight_v']\n",
      "- This IS expected if you are initializing HubertModel from the checkpoint of a model trained on another task or with another architecture (e.g. initializing a BertForSequenceClassification model from a BertForPreTraining model).\n",
      "- This IS NOT expected if you are initializing HubertModel from the checkpoint of a model that you expect to be exactly identical (initializing a BertForSequenceClassification model from a BertForSequenceClassification model).\n",
      "Some weights of HubertModel were not initialized from the model checkpoint at facebook/hubert-base-ls960 and are newly initialized: ['encoder.pos_conv_embed.conv.parametrizations.weight.original0', 'encoder.pos_conv_embed.conv.parametrizations.weight.original1']\n",
      "You should probably TRAIN this model on a down-stream task to be able to use it for predictions and inference.\n",
      "C:\\Users\\ramona\\AppData\\Local\\Temp\\ipykernel_20288\\3042093823.py:7: UserWarning: To copy construct from a tensor, it is recommended to use sourceTensor.clone().detach() or sourceTensor.clone().detach().requires_grad_(True), rather than torch.tensor(sourceTensor).\n",
      "  labels = torch.tensor(self.encodings['labels'][idx], dtype=torch.float).unsqueeze(0)  # Ensure labels are shaped correctly\n"
     ]
    },
    {
     "data": {
      "image/png": "[encoded data removed]",
      "text/plain": [
       "<Figure size 1000x700 with 2 Axes>"
      ]
     },
     "metadata": {},
     "output_type": "display_data"
    }
   ],
   "source": [
    "# load model and plot cmf\n",
    "model_path = './hubert_depression_multiclass_model_cata'\n",
    "model, optimizer = load_model(model_path, 2)\n",
    "# val_loss, accuracy, precision, recall, f1 = evaluate(model, test_loader, criterion, device, writer, 6)\n",
    "# print(f'Validation Loss: {val_loss:.4f}')\n",
    "# print(f'Accuracy: {accuracy:.4f}, Precision: {precision:.4f}, Recall: {recall:.4f}, F1 Score: {f1:.4f}')\n",
    "\n",
    "from sklearn.metrics import confusion_matrix\n",
    "import matplotlib.pyplot as plt\n",
    "import seaborn as sns\n",
    "\n",
    "def plot_confusion_matrix(model, test_loader, device):\n",
    "    model.eval()\n",
    "    all_labels = []\n",
    "    all_preds = []\n",
    "\n",
    "    with torch.no_grad():\n",
    "        for batch_idx, batch in enumerate(test_loader):\n",
    "            input_values = batch['input_values'].to(device)\n",
    "            labels = batch['labels'].to(device)\n",
    "            \n",
    "            labels = labels.squeeze(1)\n",
    "            \n",
    "            labels = torch.argmax(labels, axis=1)\n",
    "            outputs = model(input_values)\n",
    "            all_labels.extend(labels.cpu().numpy())\n",
    "            all_preds.extend(torch.argmax(outputs, axis=1).cpu().numpy())\n",
    "\n",
    "    cm = confusion_matrix(all_labels, all_preds)\n",
    "    plt.figure(figsize=(10, 7))\n",
    "    sns.heatmap(cm, annot=True, fmt='g', cmap='Blues', xticklabels=[0, 1, 2, 3, 4], yticklabels=[0, 1, 2, 3, 4])\n",
    "    plt.xlabel('Predicted labels')\n",
    "    plt.title('Confusion Matrix')\n",
    "    plt.ylabel('True labels')\n",
    "    plt.show()\n",
    "    \n",
    "    \n",
    "plot_confusion_matrix(model, test_loader, device)"
   ]
  },
  {
   "cell_type": "code",
   "execution_count": null,
   "metadata": {},
   "outputs": [],
   "source": [
    "# cm = confusion_matrix(all_labels, all_preds)\n",
    "# plt.figure(figsize=(10, 7))\n",
    "# sns.heatmap(cm, annot=True, fmt='g', cmap='Blues', xticklabels=[0, 1, 2, 3, 4], yticklabels=[0, 1, 2, 3, 4])\n",
    "# plt.xlabel('Predicted labels')\n",
    "# plt.title('Confusion Matrix')\n",
    "# plt.ylabel('True labels')\n",
    "# plt.show()\n",
    "# plot_confusion_matrix(model, test_loader, device)"
   ]
  }
 ],
 "metadata": {
  "kernelspec": {
   "display_name": "labplnta",
   "language": "python",
   "name": "python3"
  },
  "language_info": {
   "codemirror_mode": {
    "name": "ipython",
    "version": 3
   },
   "file_extension": ".py",
   "mimetype": "text/x-python",
   "name": "python",
   "nbconvert_exporter": "python",
   "pygments_lexer": "ipython3",
   "version": "3.9.15"
  }
 },
 "nbformat": 4,
 "nbformat_minor": 2
}
