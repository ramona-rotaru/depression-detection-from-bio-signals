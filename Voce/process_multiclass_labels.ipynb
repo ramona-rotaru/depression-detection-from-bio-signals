{
 "cells": [
  {
   "cell_type": "code",
   "execution_count": 9,
   "metadata": {},
   "outputs": [],
   "source": [
    "import os\n",
    "import librosa\n",
    "import pandas as pd\n",
    "import numpy as np\n",
    "from tqdm import tqdm "
   ]
  },
  {
   "cell_type": "code",
   "execution_count": 12,
   "metadata": {},
   "outputs": [
    {
     "name": "stdout",
     "output_type": "stream",
     "text": [
      "   Participant_ID  PHQ8_Binary  PHQ_Score  Gender\n",
      "0             300            0          2       1\n",
      "1             301            0          3       1\n",
      "2             306            0          0       0\n",
      "3             308            1         22       0\n",
      "4             309            1         15       1\n"
     ]
    }
   ],
   "source": [
    "df = pd.read_csv('./full_test_split.csv')\n",
    "print(df.head())"
   ]
  },
  {
   "cell_type": "code",
   "execution_count": 13,
   "metadata": {},
   "outputs": [],
   "source": [
    "# Definirea funcției pentru a crea severitatea\n",
    "def determine_severity(score):\n",
    "    if 0 <= score <= 4:\n",
    "        return 0\n",
    "    elif 5 <= score <= 9:\n",
    "        return 1\n",
    "    elif 10 <= score <= 14:\n",
    "        return 2\n",
    "    elif 15 <= score <= 19:\n",
    "        return 3\n",
    "    elif 20 <= score <= 24:\n",
    "        return 4\n",
    "    else:\n",
    "        return None"
   ]
  },
  {
   "cell_type": "code",
   "execution_count": 14,
   "metadata": {},
   "outputs": [
    {
     "name": "stdout",
     "output_type": "stream",
     "text": [
      "   Participant_ID  PHQ8_Binary  PHQ_Score  Gender  Severity\n",
      "0             300            0          2       1         0\n",
      "1             301            0          3       1         0\n",
      "2             306            0          0       0         0\n",
      "3             308            1         22       0         4\n",
      "4             309            1         15       1         3\n"
     ]
    }
   ],
   "source": [
    "# Aplicarea funcției pe coloana PHQ_Score pentru a crea coloana Severity\n",
    "df['Severity'] = df['PHQ_Score'].apply(determine_severity)\n",
    "print(df.head())"
   ]
  },
  {
   "cell_type": "code",
   "execution_count": 15,
   "metadata": {},
   "outputs": [
    {
     "name": "stdout",
     "output_type": "stream",
     "text": [
      "Severity\n",
      "0    22\n",
      "1    11\n",
      "3     7\n",
      "2     5\n",
      "4     2\n",
      "Name: count, dtype: int64\n"
     ]
    }
   ],
   "source": [
    "print(df.value_counts('Severity'))"
   ]
  },
  {
   "cell_type": "code",
   "execution_count": 16,
   "metadata": {},
   "outputs": [],
   "source": [
    "# Function to process each WAV file\n",
    "def process_wav(file_path, sr=16000, frame_duration=7):\n",
    "    # Load the WAV file\n",
    "    y, sr = librosa.load(file_path, sr=sr)\n",
    "    \n",
    "    # Eliminate the first 15 seconds\n",
    "    y = y[int(sr*15):]\n",
    "    \n",
    "    # Calculate the number of frames\n",
    "    frame_size = sr * frame_duration\n",
    "    num_frames = len(y) // frame_size\n",
    "    \n",
    "    # Segment the WAV file into frames\n",
    "    frames = [y[i*frame_size:(i+1)*frame_size] for i in range(num_frames)]\n",
    "    \n",
    "    return frames\n",
    "\n",
    "# Function to get labels for WAV file frames based on participant ID\n",
    "def get_labels_for_frames(participant_id, data_df, num_frames):\n",
    "    labels = []\n",
    "    participant_row = data_df[data_df['Participant_ID'] == int(participant_id)]\n",
    "    if not participant_row.empty:\n",
    "        severity = participant_row.iloc[0]['Severity']\n",
    "        labels = [severity] * num_frames\n",
    "    \n",
    "    return labels\n"
   ]
  },
  {
   "cell_type": "code",
   "execution_count": 17,
   "metadata": {},
   "outputs": [
    {
     "name": "stderr",
     "output_type": "stream",
     "text": [
      "100%|██████████| 187/187 [00:01<00:00, 127.95it/s]\n"
     ]
    }
   ],
   "source": [
    "\n",
    "wav_folder_path = 'E:\\\\Daicwoz\\\\after_vad_speech\\\\'\n",
    "\n",
    "data_df = df\n",
    "\n",
    "data = []\n",
    "labels = []\n",
    "\n",
    "\n",
    "participant_ids = set(data_df['Participant_ID'].astype(str))\n",
    "\n",
    "for file_name in tqdm(os.listdir(wav_folder_path)):\n",
    "    if file_name.endswith('.wav'):\n",
    "\n",
    "        participant_id = file_name.split('_')[0]\n",
    "        \n",
    "\n",
    "        if participant_id in participant_ids:\n",
    "            file_path = os.path.join(wav_folder_path, file_name)\n",
    "            \n",
    "            frames = process_wav(file_path)\n",
    "            \n",
    "            frame_labels = get_labels_for_frames(participant_id, data_df, len(frames))\n",
    "            \n",
    "            data.append(frames)\n",
    "            labels.append(frame_labels)\n"
   ]
  },
  {
   "cell_type": "code",
   "execution_count": 20,
   "metadata": {},
   "outputs": [
    {
     "name": "stdout",
     "output_type": "stream",
     "text": [
      "47 47\n",
      "(4033, 112000)\n"
     ]
    }
   ],
   "source": [
    "print(len(data), len(labels))\n",
    "# print(data[0].shape)\n",
    "data_vector = np.concatenate(data, axis=0)\n",
    "print(data_vector.shape)\n"
   ]
  },
  {
   "cell_type": "code",
   "execution_count": 21,
   "metadata": {},
   "outputs": [
    {
     "name": "stdout",
     "output_type": "stream",
     "text": [
      "[1, 1, 1, 1, 1, 1, 1, 1, 1, 1, 1, 1, 1, 1, 1, 1, 1, 1, 1, 1, 1, 1, 1, 1, 1, 1, 1, 1, 1, 1, 1, 1, 1, 1, 1, 1, 1, 1, 1, 1, 1, 1, 1, 1, 1, 1, 1, 1, 1, 1, 1, 1, 1, 1, 1, 1, 1, 1, 1, 1, 1, 1, 1, 1, 1, 1, 1, 1, 1, 1, 1, 1, 1, 1]\n",
      "(4033,)\n"
     ]
    }
   ],
   "source": [
    "print(labels[0])\n",
    "labels = np.concatenate(labels, axis=0)\n",
    "print(labels.shape)"
   ]
  },
  {
   "cell_type": "code",
   "execution_count": 24,
   "metadata": {},
   "outputs": [],
   "source": [
    "np.save('data_severity.npy', data_vector)\n",
    "np.save('labels_severity.npy', labels)"
   ]
  },
  {
   "cell_type": "code",
   "execution_count": 25,
   "metadata": {},
   "outputs": [
    {
     "name": "stdout",
     "output_type": "stream",
     "text": [
      "(4033, 112000)\n",
      "(4033,)\n"
     ]
    }
   ],
   "source": [
    "data = np.load('data_severity.npy', allow_pickle=True)\n",
    "labels = np.load('labels_severity.npy', allow_pickle=True)\n",
    "\n",
    "print(data.shape)\n",
    "print(labels.shape)"
   ]
  }
 ],
 "metadata": {
  "kernelspec": {
   "display_name": "labplnta",
   "language": "python",
   "name": "python3"
  },
  "language_info": {
   "codemirror_mode": {
    "name": "ipython",
    "version": 3
   },
   "file_extension": ".py",
   "mimetype": "text/x-python",
   "name": "python",
   "nbconvert_exporter": "python",
   "pygments_lexer": "ipython3",
   "version": "3.9.15"
  }
 },
 "nbformat": 4,
 "nbformat_minor": 2
}
