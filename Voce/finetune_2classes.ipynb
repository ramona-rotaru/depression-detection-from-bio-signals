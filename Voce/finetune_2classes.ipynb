{
 "cells": [
  {
   "cell_type": "code",
   "execution_count": 2,
   "metadata": {},
   "outputs": [
    {
     "name": "stderr",
     "output_type": "stream",
     "text": [
      "d:\\python\\envs\\labplnta\\lib\\site-packages\\tqdm\\auto.py:21: TqdmWarning: IProgress not found. Please update jupyter and ipywidgets. See https://ipywidgets.readthedocs.io/en/stable/user_install.html\n",
      "  from .autonotebook import tqdm as notebook_tqdm\n"
     ]
    }
   ],
   "source": [
    "import numpy as np\n",
    "import pandas as pd\n",
    "\n",
    "from pathlib import Path\n",
    "from tqdm import tqdm\n",
    "\n",
    "import torchaudio\n",
    "import torch\n",
    "from sklearn.model_selection import train_test_split\n",
    "\n",
    "import os\n",
    "import sys\n",
    "\n",
    "from transformers import AutoConfig, Wav2Vec2Processor, Wav2Vec2FeatureExtractor\n",
    "from transformers import HubertModel, HubertConfig, Wav2Vec2Processor\n",
    "import torch.nn as nn\n",
    "import torch\n"
   ]
  },
  {
   "cell_type": "code",
   "execution_count": 3,
   "metadata": {},
   "outputs": [
    {
     "name": "stdout",
     "output_type": "stream",
     "text": [
      "(14577, 112000)\n",
      "(14577,)\n"
     ]
    }
   ],
   "source": [
    "data = np.load('data.npy', allow_pickle=True)\n",
    "labels = np.load('labels.npy', allow_pickle=True)\n",
    "\n",
    "print(data.shape)\n",
    "print(labels.shape)"
   ]
  },
  {
   "cell_type": "code",
   "execution_count": 4,
   "metadata": {},
   "outputs": [
    {
     "name": "stdout",
     "output_type": "stream",
     "text": [
      "The target sampling rate: 16000\n"
     ]
    }
   ],
   "source": [
    "model_name_or_path = \"facebook/hubert-base-ls960\"\n",
    "\n",
    "feature_extractor = Wav2Vec2FeatureExtractor.from_pretrained(model_name_or_path,)\n",
    "target_sampling_rate = feature_extractor.sampling_rate\n",
    "print(f\"The target sampling rate: {target_sampling_rate}\")\n"
   ]
  },
  {
   "cell_type": "code",
   "execution_count": 5,
   "metadata": {},
   "outputs": [],
   "source": [
    "x_train, x_test, y_train, y_test = train_test_split(data, labels, test_size=0.2, random_state=33, stratify=labels)"
   ]
  },
  {
   "cell_type": "code",
   "execution_count": 6,
   "metadata": {},
   "outputs": [
    {
     "name": "stdout",
     "output_type": "stream",
     "text": [
      "(11661, 112000) (11661,)\n",
      "(2916, 112000) (2916,)\n"
     ]
    }
   ],
   "source": [
    "print(x_train.shape, y_train.shape)\n",
    "print(x_test.shape, y_test.shape)"
   ]
  },
  {
   "cell_type": "code",
   "execution_count": 7,
   "metadata": {},
   "outputs": [
    {
     "name": "stdout",
     "output_type": "stream",
     "text": [
      "[-0.00317383 -0.00302124 -0.00308228 ...  0.00765991  0.0071106\n",
      "  0.00793457]\n",
      "[0.0010376  0.00076294 0.0005188  ... 0.02801514 0.02929688 0.0307312 ]\n",
      "11661 2916\n"
     ]
    }
   ],
   "source": [
    "#create a list of arrays for the training data\n",
    "train_data = []\n",
    "for i in range(len(x_train)):\n",
    "    train_data.append(x_train[i])\n",
    "    \n",
    "#create a list of arrays for the testing data\n",
    "test_data = []\n",
    "for i in range(len(x_test)):\n",
    "    test_data.append(x_test[i])\n",
    "    \n",
    "print(train_data[0])\n",
    "print(test_data[0])\n",
    "\n",
    "print(len(train_data), len(test_data))"
   ]
  },
  {
   "cell_type": "code",
   "execution_count": 8,
   "metadata": {},
   "outputs": [
    {
     "name": "stdout",
     "output_type": "stream",
     "text": [
      "dict_keys(['input_values'])\n",
      "dict_keys(['input_values'])\n",
      "[-0.474839   -0.45189515 -0.46107268 ...  1.1541741   1.0715762\n",
      "  1.195473  ]\n"
     ]
    }
   ],
   "source": [
    "features_train = feature_extractor(train_data, sampling_rate=target_sampling_rate)\n",
    "features_test = feature_extractor(test_data, sampling_rate=target_sampling_rate)\n",
    "\n",
    "print(features_train.keys())\n",
    "print(features_test.keys())\n",
    "print(features_train['input_values'][0])"
   ]
  },
  {
   "cell_type": "code",
   "execution_count": 9,
   "metadata": {},
   "outputs": [
    {
     "name": "stdout",
     "output_type": "stream",
     "text": [
      "[0, 0, 0, 0, 0, 1, 1, 0, 1, 0, 1, 0, 0, 0, 0, 1, 0, 1, 1, 0, 0, 1, 0, 0, 1, 0, 0, 0, 0, 1, 1, 1, 0, 0, 0, 0, 1, 1, 0, 0, 0, 0, 1, 0, 1, 0, 0, 0, 0, 1]\n"
     ]
    }
   ],
   "source": [
    "features_train['labels'] = [label for label in y_train]\n",
    "features_test['labels'] = [label for label in y_test]\n",
    "\n",
    "print(features_train['labels'][:50])"
   ]
  },
  {
   "cell_type": "code",
   "execution_count": 10,
   "metadata": {},
   "outputs": [
    {
     "name": "stdout",
     "output_type": "stream",
     "text": [
      "{'input_values': tensor([-0.1920, -0.2757, -0.3699,  ..., -1.7401, -1.4472, -1.4681]), 'labels': tensor([0.])}\n",
      "{'input_values': tensor([-0.0512, -0.0460, -0.0356,  ..., -0.0512, -0.0565, -0.0669]), 'labels': tensor([0.])}\n"
     ]
    }
   ],
   "source": [
    "# # createn a dataset type and use it for training on batches\n",
    "# class Dataset(torch.utils.data.Dataset):\n",
    "#     def __init__(self, encodings):\n",
    "#         self.encodings = encodings\n",
    "\n",
    "#     def __getitem__(self, idx):\n",
    "#         item = {key: torch.tensor(val[idx]) for key, val in self.encodings.items()}\n",
    "#         return item\n",
    "\n",
    "#     def __len__(self):\n",
    "#         return len(self.encodings.input_values)\n",
    "\n",
    "class Dataset(torch.utils.data.Dataset):\n",
    "    def __init__(self, encodings):\n",
    "        self.encodings = encodings\n",
    "\n",
    "    def __getitem__(self, idx):\n",
    "        input_values = torch.tensor(self.encodings['input_values'][idx], dtype=torch.float)\n",
    "        labels = torch.tensor(self.encodings['labels'][idx], dtype=torch.float).unsqueeze(0)  # Ensure labels are shaped correctly\n",
    "        return {'input_values': input_values, 'labels': labels}\n",
    "\n",
    "    def __len__(self):\n",
    "        return len(self.encodings['input_values'])\n",
    "\n",
    "    \n",
    "train_dataset = Dataset(features_train)\n",
    "test_dataset = Dataset(features_test)\n",
    "\n",
    "print(train_dataset[9])\n",
    "print(test_dataset[9])\n"
   ]
  },
  {
   "cell_type": "code",
   "execution_count": 11,
   "metadata": {},
   "outputs": [
    {
     "name": "stdout",
     "output_type": "stream",
     "text": [
      "11661 2916\n"
     ]
    }
   ],
   "source": [
    "train_loader = torch.utils.data.DataLoader(train_dataset, batch_size=1, shuffle=True)\n",
    "test_loader = torch.utils.data.DataLoader(test_dataset, batch_size=1, shuffle=False)\n",
    "\n",
    "print(len(train_loader), len(test_loader))"
   ]
  },
  {
   "cell_type": "code",
   "execution_count": 12,
   "metadata": {},
   "outputs": [
    {
     "name": "stdout",
     "output_type": "stream",
     "text": [
      "Training input_values: tensor([-0.4748, -0.4519, -0.4611,  ...,  1.1542,  1.0716,  1.1955])\n",
      "Training labels: tensor([0.])\n"
     ]
    }
   ],
   "source": [
    "print(f\"Training input_values: {train_dataset[0]['input_values']}\")\n",
    "print(f\"Training labels: {train_dataset[0]['labels']}\")"
   ]
  },
  {
   "cell_type": "code",
   "execution_count": 13,
   "metadata": {},
   "outputs": [],
   "source": [
    "class HubertForDepressionDetection(nn.Module):\n",
    "    def __init__(self, hubert_model_name='facebook/hubert-base-ls960'):\n",
    "        super(HubertForDepressionDetection, self).__init__()\n",
    "        self.feature_extractor = Wav2Vec2FeatureExtractor.from_pretrained(hubert_model_name)\n",
    "        self.hubert = HubertModel.from_pretrained(hubert_model_name)\n",
    "        self.classifier = nn.Linear(self.hubert.config.hidden_size, 1)\n",
    "        self.sigmoid = nn.Sigmoid()\n",
    "    \n",
    "    def forward(self, input_values):\n",
    "        outputs = self.hubert(input_values).last_hidden_state\n",
    "        # Use the mean of the last hidden state as the input to the classifier\n",
    "        mean_output = torch.mean(outputs, dim=1)\n",
    "        logits = self.classifier(mean_output)\n",
    "        probs = self.sigmoid(logits)\n",
    "        return probs\n",
    "    \n",
    "    "
   ]
  },
  {
   "cell_type": "code",
   "execution_count": 14,
   "metadata": {},
   "outputs": [
    {
     "name": "stderr",
     "output_type": "stream",
     "text": [
      "d:\\python\\envs\\labplnta\\lib\\site-packages\\torch\\_utils.py:831: UserWarning: TypedStorage is deprecated. It will be removed in the future and UntypedStorage will be the only storage class. This should only matter to you if you are using storages directly.  To access UntypedStorage directly, use tensor.untyped_storage() instead of tensor.storage()\n",
      "  return self.fget.__get__(instance, owner)()\n",
      "Some weights of the model checkpoint at facebook/hubert-base-ls960 were not used when initializing HubertModel: ['encoder.pos_conv_embed.conv.weight_g', 'encoder.pos_conv_embed.conv.weight_v']\n",
      "- This IS expected if you are initializing HubertModel from the checkpoint of a model trained on another task or with another architecture (e.g. initializing a BertForSequenceClassification model from a BertForPreTraining model).\n",
      "- This IS NOT expected if you are initializing HubertModel from the checkpoint of a model that you expect to be exactly identical (initializing a BertForSequenceClassification model from a BertForSequenceClassification model).\n",
      "Some weights of HubertModel were not initialized from the model checkpoint at facebook/hubert-base-ls960 and are newly initialized: ['encoder.pos_conv_embed.conv.parametrizations.weight.original0', 'encoder.pos_conv_embed.conv.parametrizations.weight.original1']\n",
      "You should probably TRAIN this model on a down-stream task to be able to use it for predictions and inference.\n"
     ]
    },
    {
     "data": {
      "text/plain": [
       "HubertForDepressionDetection(\n",
       "  (hubert): HubertModel(\n",
       "    (feature_extractor): HubertFeatureEncoder(\n",
       "      (conv_layers): ModuleList(\n",
       "        (0): HubertGroupNormConvLayer(\n",
       "          (conv): Conv1d(1, 512, kernel_size=(10,), stride=(5,), bias=False)\n",
       "          (activation): GELUActivation()\n",
       "          (layer_norm): GroupNorm(512, 512, eps=1e-05, affine=True)\n",
       "        )\n",
       "        (1-4): 4 x HubertNoLayerNormConvLayer(\n",
       "          (conv): Conv1d(512, 512, kernel_size=(3,), stride=(2,), bias=False)\n",
       "          (activation): GELUActivation()\n",
       "        )\n",
       "        (5-6): 2 x HubertNoLayerNormConvLayer(\n",
       "          (conv): Conv1d(512, 512, kernel_size=(2,), stride=(2,), bias=False)\n",
       "          (activation): GELUActivation()\n",
       "        )\n",
       "      )\n",
       "    )\n",
       "    (feature_projection): HubertFeatureProjection(\n",
       "      (layer_norm): LayerNorm((512,), eps=1e-05, elementwise_affine=True)\n",
       "      (projection): Linear(in_features=512, out_features=768, bias=True)\n",
       "      (dropout): Dropout(p=0.1, inplace=False)\n",
       "    )\n",
       "    (encoder): HubertEncoder(\n",
       "      (pos_conv_embed): HubertPositionalConvEmbedding(\n",
       "        (conv): ParametrizedConv1d(\n",
       "          768, 768, kernel_size=(128,), stride=(1,), padding=(64,), groups=16\n",
       "          (parametrizations): ModuleDict(\n",
       "            (weight): ParametrizationList(\n",
       "              (0): _WeightNorm()\n",
       "            )\n",
       "          )\n",
       "        )\n",
       "        (padding): HubertSamePadLayer()\n",
       "        (activation): GELUActivation()\n",
       "      )\n",
       "      (layer_norm): LayerNorm((768,), eps=1e-05, elementwise_affine=True)\n",
       "      (dropout): Dropout(p=0.1, inplace=False)\n",
       "      (layers): ModuleList(\n",
       "        (0-11): 12 x HubertEncoderLayer(\n",
       "          (attention): HubertAttention(\n",
       "            (k_proj): Linear(in_features=768, out_features=768, bias=True)\n",
       "            (v_proj): Linear(in_features=768, out_features=768, bias=True)\n",
       "            (q_proj): Linear(in_features=768, out_features=768, bias=True)\n",
       "            (out_proj): Linear(in_features=768, out_features=768, bias=True)\n",
       "          )\n",
       "          (dropout): Dropout(p=0.1, inplace=False)\n",
       "          (layer_norm): LayerNorm((768,), eps=1e-05, elementwise_affine=True)\n",
       "          (feed_forward): HubertFeedForward(\n",
       "            (intermediate_dropout): Dropout(p=0.1, inplace=False)\n",
       "            (intermediate_dense): Linear(in_features=768, out_features=3072, bias=True)\n",
       "            (intermediate_act_fn): GELUActivation()\n",
       "            (output_dense): Linear(in_features=3072, out_features=768, bias=True)\n",
       "            (output_dropout): Dropout(p=0.1, inplace=False)\n",
       "          )\n",
       "          (final_layer_norm): LayerNorm((768,), eps=1e-05, elementwise_affine=True)\n",
       "        )\n",
       "      )\n",
       "    )\n",
       "  )\n",
       "  (classifier): Linear(in_features=768, out_features=1, bias=True)\n",
       "  (sigmoid): Sigmoid()\n",
       ")"
      ]
     },
     "execution_count": 14,
     "metadata": {},
     "output_type": "execute_result"
    }
   ],
   "source": [
    "model = HubertForDepressionDetection()\n",
    "\n",
    "\n",
    "\n",
    "optimizer = torch.optim.AdamW(model.parameters(), lr=1e-5)\n",
    "criterion = nn.BCELoss()\n",
    "\n",
    "# Move model to the appropriate device\n",
    "device = torch.device('cuda' if torch.cuda.is_available() else 'cpu')\n",
    "model.to(device)"
   ]
  },
  {
   "cell_type": "code",
   "execution_count": 39,
   "metadata": {},
   "outputs": [],
   "source": [
    "from torch.utils.tensorboard import SummaryWriter\n",
    "\n",
    "# Initialize TensorBoard writer\n",
    "writer = SummaryWriter('runs/hubert_depression_detection_experiment')\n"
   ]
  },
  {
   "cell_type": "code",
   "execution_count": 15,
   "metadata": {},
   "outputs": [],
   "source": [
    "def train(model, train_loader, optimizer, criterion, device, writer, epoch):\n",
    "    model.train()\n",
    "    total_loss = 0\n",
    "\n",
    "    for batch_idx, batch in enumerate(train_loader):\n",
    "        input_values = batch['input_values'].to(device)\n",
    "        labels = batch['labels'].to(device)\n",
    "        \n",
    "        optimizer.zero_grad()\n",
    "        outputs = model(input_values)\n",
    "        loss = criterion(outputs, labels)\n",
    "        loss.backward()\n",
    "        optimizer.step()\n",
    "        \n",
    "        total_loss += loss.item()\n",
    "\n",
    "        # Log training loss\n",
    "        if batch_idx % 10 == 0:  # Log every 10 batches\n",
    "            writer.add_scalar('Training Loss', loss.item(), epoch * len(train_loader) + batch_idx)\n",
    "\n",
    "    avg_loss = total_loss / len(train_loader)\n",
    "    return avg_loss\n",
    "\n",
    "def evaluate(model, test_loader, criterion, device, writer, epoch):\n",
    "    model.eval()\n",
    "    total_loss = 0\n",
    "    all_labels = []\n",
    "    all_preds = []\n",
    "\n",
    "    with torch.no_grad():\n",
    "        for batch_idx, batch in enumerate(test_loader):\n",
    "            input_values = batch['input_values'].to(device)\n",
    "            labels = batch['labels'].to(device)\n",
    "            \n",
    "            outputs = model(input_values)\n",
    "            loss = criterion(outputs, labels)\n",
    "            total_loss += loss.item()\n",
    "            \n",
    "            all_labels.extend(labels.cpu().numpy())\n",
    "            all_preds.extend(outputs.cpu().numpy())\n",
    "\n",
    "    avg_loss = total_loss / len(test_loader)\n",
    "\n",
    "    # Calculate additional metrics\n",
    "    from sklearn.metrics import accuracy_score, precision_score, recall_score, f1_score\n",
    "    \n",
    "    val_preds_binary = [1 if p > 0.5 else 0 for p in all_preds]\n",
    "    accuracy = accuracy_score(all_labels, val_preds_binary)\n",
    "    precision = precision_score(all_labels, val_preds_binary)\n",
    "    recall = recall_score(all_labels, val_preds_binary)\n",
    "    f1 = f1_score(all_labels, val_preds_binary)\n",
    "    \n",
    "    # Log validation metrics\n",
    "    writer.add_scalar('Validation Loss', avg_loss, epoch)\n",
    "    writer.add_scalar('Validation Accuracy', accuracy, epoch)\n",
    "    writer.add_scalar('Validation Precision', precision, epoch)\n",
    "    writer.add_scalar('Validation Recall', recall, epoch)\n",
    "    writer.add_scalar('Validation F1 Score', f1, epoch)\n",
    "\n",
    "    return avg_loss, accuracy, precision, recall, f1\n",
    "\n",
    "def save_model(model, optimizer, epoch, model_path):\n",
    "    if not os.path.exists(model_path):\n",
    "        os.makedirs(model_path)\n",
    "    model_save_path = os.path.join(model_path, f'model_epoch_{epoch}.pth')\n",
    "    optimizer_save_path = os.path.join(model_path, f'optimizer_epoch_{epoch}.pth')\n",
    "    torch.save(model.state_dict(), model_save_path)\n",
    "    torch.save(optimizer.state_dict(), optimizer_save_path)\n",
    "    print(f\"Model and optimizer saved to {model_save_path} and {optimizer_save_path}\")\n",
    "\n",
    "def load_model(model_path, epoch):\n",
    "    model = HubertForDepressionDetection()\n",
    "    model_load_path = os.path.join(model_path, f'model_epoch_{epoch}.pth')\n",
    "    optimizer_load_path = os.path.join(model_path, f'optimizer_epoch_{epoch}.pth')\n",
    "    model.load_state_dict(torch.load(model_load_path))\n",
    "    optimizer = torch.optim.AdamW(model.parameters(), lr=1e-5)\n",
    "    optimizer.load_state_dict(torch.load(optimizer_load_path))\n",
    "    \n",
    "    model.to(device)\n",
    "    return model, optimizer\n",
    "\n"
   ]
  },
  {
   "cell_type": "code",
   "execution_count": 41,
   "metadata": {},
   "outputs": [
    {
     "name": "stderr",
     "output_type": "stream",
     "text": [
      "Some weights of the model checkpoint at facebook/hubert-base-ls960 were not used when initializing HubertModel: ['encoder.pos_conv_embed.conv.weight_g', 'encoder.pos_conv_embed.conv.weight_v']\n",
      "- This IS expected if you are initializing HubertModel from the checkpoint of a model trained on another task or with another architecture (e.g. initializing a BertForSequenceClassification model from a BertForPreTraining model).\n",
      "- This IS NOT expected if you are initializing HubertModel from the checkpoint of a model that you expect to be exactly identical (initializing a BertForSequenceClassification model from a BertForSequenceClassification model).\n",
      "Some weights of HubertModel were not initialized from the model checkpoint at facebook/hubert-base-ls960 and are newly initialized: ['encoder.pos_conv_embed.conv.parametrizations.weight.original0', 'encoder.pos_conv_embed.conv.parametrizations.weight.original1']\n",
      "You should probably TRAIN this model on a down-stream task to be able to use it for predictions and inference.\n"
     ]
    },
    {
     "name": "stdout",
     "output_type": "stream",
     "text": [
      "Epoch 1/10\n",
      "Train Loss: 0.4007\n",
      "Validation Loss: 0.1373\n",
      "Accuracy: 0.9451, Precision: 0.8772, Recall: 0.9540, F1 Score: 0.9140\n",
      "Model and optimizer saved to ./hubert_depression_detection_model\\model_epoch_0.pth and ./hubert_depression_detection_model\\optimizer_epoch_0.pth\n",
      "Epoch 2/10\n",
      "Train Loss: 0.1529\n",
      "Validation Loss: 0.0631\n",
      "Accuracy: 0.9787, Precision: 0.9631, Recall: 0.9675, F1 Score: 0.9653\n",
      "Model and optimizer saved to ./hubert_depression_detection_model\\model_epoch_1.pth and ./hubert_depression_detection_model\\optimizer_epoch_1.pth\n",
      "Epoch 3/10\n",
      "Train Loss: 0.1051\n",
      "Validation Loss: 0.0363\n",
      "Accuracy: 0.9866, Precision: 0.9874, Recall: 0.9686, F1 Score: 0.9779\n",
      "Model and optimizer saved to ./hubert_depression_detection_model\\model_epoch_2.pth and ./hubert_depression_detection_model\\optimizer_epoch_2.pth\n",
      "Epoch 4/10\n",
      "Train Loss: 0.0807\n",
      "Validation Loss: 0.0376\n",
      "Accuracy: 0.9859, Precision: 0.9942, Recall: 0.9596, F1 Score: 0.9766\n",
      "Model and optimizer saved to ./hubert_depression_detection_model\\model_epoch_3.pth and ./hubert_depression_detection_model\\optimizer_epoch_3.pth\n",
      "Epoch 5/10\n",
      "Train Loss: 0.0709\n",
      "Validation Loss: 0.0389\n",
      "Accuracy: 0.9863, Precision: 0.9819, Recall: 0.9731, F1 Score: 0.9775\n",
      "Model and optimizer saved to ./hubert_depression_detection_model\\model_epoch_4.pth and ./hubert_depression_detection_model\\optimizer_epoch_4.pth\n"
     ]
    }
   ],
   "source": [
    "# Training and evaluation setup\n",
    "device = torch.device('cuda' if torch.cuda.is_available() else 'cpu')\n",
    "model = HubertForDepressionDetection().to(device)\n",
    "optimizer = torch.optim.AdamW(model.parameters(), lr=1e-5)\n",
    "criterion = nn.BCELoss()\n",
    "writer = SummaryWriter('runs/hubert_depression_detection_experiment')\n",
    "num_epochs = 10\n",
    "model_path = './hubert_depression_detection_model'\n",
    "\n",
    "for epoch in range(num_epochs):\n",
    "    train_loss = train(model, train_loader, optimizer, criterion, device, writer, epoch)\n",
    "    val_loss, accuracy, precision, recall, f1 = evaluate(model, test_loader, criterion, device, writer, epoch)\n",
    "    \n",
    "    print(f'Epoch {epoch+1}/{num_epochs}')\n",
    "    print(f'Train Loss: {train_loss:.4f}')\n",
    "    print(f'Validation Loss: {val_loss:.4f}')\n",
    "    print(f'Accuracy: {accuracy:.4f}, Precision: {precision:.4f}, Recall: {recall:.4f}, F1 Score: {f1:.4f}')\n",
    "    \n",
    "    # Save the model after each epoch\n",
    "    save_model(model, optimizer, epoch, model_path)\n",
    "\n",
    "# Close the writer\n",
    "writer.close()"
   ]
  },
  {
   "cell_type": "code",
   "execution_count": 16,
   "metadata": {},
   "outputs": [],
   "source": [
    "def evaluate(model, test_loader, criterion, device):\n",
    "    model.eval()\n",
    "    total_loss = 0\n",
    "    all_labels = []\n",
    "    all_preds = []\n",
    "\n",
    "    with torch.no_grad():\n",
    "        for batch in test_loader:\n",
    "            input_values = batch['input_values'].to(device)\n",
    "            labels = batch['labels'].to(device)\n",
    "            \n",
    "            outputs = model(input_values)\n",
    "            loss = criterion(outputs, labels)\n",
    "            total_loss += loss.item()\n",
    "            \n",
    "            all_labels.extend(labels.cpu().numpy())\n",
    "            all_preds.extend(outputs.cpu().numpy())\n",
    "\n",
    "    avg_loss = total_loss / len(test_loader)\n",
    "\n",
    "    return avg_loss, all_labels, all_preds\n",
    "\n"
   ]
  },
  {
   "cell_type": "code",
   "execution_count": 18,
   "metadata": {},
   "outputs": [
    {
     "name": "stderr",
     "output_type": "stream",
     "text": [
      "Some weights of the model checkpoint at facebook/hubert-base-ls960 were not used when initializing HubertModel: ['encoder.pos_conv_embed.conv.weight_g', 'encoder.pos_conv_embed.conv.weight_v']\n",
      "- This IS expected if you are initializing HubertModel from the checkpoint of a model trained on another task or with another architecture (e.g. initializing a BertForSequenceClassification model from a BertForPreTraining model).\n",
      "- This IS NOT expected if you are initializing HubertModel from the checkpoint of a model that you expect to be exactly identical (initializing a BertForSequenceClassification model from a BertForSequenceClassification model).\n",
      "Some weights of HubertModel were not initialized from the model checkpoint at facebook/hubert-base-ls960 and are newly initialized: ['encoder.pos_conv_embed.conv.parametrizations.weight.original0', 'encoder.pos_conv_embed.conv.parametrizations.weight.original1']\n",
      "You should probably TRAIN this model on a down-stream task to be able to use it for predictions and inference.\n"
     ]
    },
    {
     "data": {
      "image/png": "[encoded data removed]",
      "text/plain": [
       "<Figure size 640x480 with 2 Axes>"
      ]
     },
     "metadata": {},
     "output_type": "display_data"
    }
   ],
   "source": [
    "from sklearn.metrics import confusion_matrix, ConfusionMatrixDisplay\n",
    "import matplotlib.pyplot as plt\n",
    "\n",
    "model_path = './hubert_depression_detection_model_orig'\n",
    "\n",
    "# Load the model\n",
    "model, optimizer = load_model(model_path, 2)\n",
    "\n",
    "\n",
    "# Perform inference on the test set\n",
    "val_loss, all_labels, all_preds = evaluate(model, test_loader, criterion, device)\n",
    "\n",
    "# Convert predictions to binary labels (0 or 1)\n",
    "all_preds_binary = [1 if p > 0.5 else 0 for p in all_preds]\n",
    "\n",
    "# Compute the confusion matrix\n",
    "cm = confusion_matrix(all_labels, all_preds_binary)\n",
    "\n",
    "# Display the confusion matrix\n",
    "disp = ConfusionMatrixDisplay(confusion_matrix=cm, display_labels=['Control', 'TDM'])\n",
    "disp.plot(cmap=plt.cm.Blues)\n",
    "plt.title('Confusion Matrix')\n",
    "plt.show()"
   ]
  },
  {
   "cell_type": "code",
   "execution_count": 19,
   "metadata": {},
   "outputs": [
    {
     "data": {
      "image/png": "[encoded data removed]",
      "text/plain": [
       "<Figure size 640x480 with 2 Axes>"
      ]
     },
     "metadata": {},
     "output_type": "display_data"
    }
   ],
   "source": [
    "# Compute the confusion matrix\n",
    "cm = confusion_matrix(all_labels, all_preds_binary, normalize='true')\n",
    "# Display the confusion matrix\n",
    "disp = ConfusionMatrixDisplay(confusion_matrix=cm, display_labels=[0, 1])\n",
    "disp.plot(cmap=plt.cm.Blues)\n",
    "plt.title('Confusion Matrix')\n",
    "plt.show()"
   ]
  }
 ],
 "metadata": {
  "kernelspec": {
   "display_name": "labplnta",
   "language": "python",
   "name": "python3"
  },
  "language_info": {
   "codemirror_mode": {
    "name": "ipython",
    "version": 3
   },
   "file_extension": ".py",
   "mimetype": "text/x-python",
   "name": "python",
   "nbconvert_exporter": "python",
   "pygments_lexer": "ipython3",
   "version": "3.9.15"
  }
 },
 "nbformat": 4,
 "nbformat_minor": 2
}
